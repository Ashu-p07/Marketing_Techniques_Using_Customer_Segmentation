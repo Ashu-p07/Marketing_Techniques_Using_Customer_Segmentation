{
 "cells": [
  {
   "cell_type": "code",
   "execution_count": 2,
   "id": "ab887598",
   "metadata": {},
   "outputs": [
    {
     "name": "stderr",
     "output_type": "stream",
     "text": [
      "D:\\anaconda\\Lib\\site-packages\\sklearn_extra\\cluster\\_k_medoids.py:329: UserWarning: Cluster 2 is empty! self.labels_[self.medoid_indices_[2]] may not be labeled with its corresponding cluster (2).\n",
      "  warnings.warn(\n",
      "D:\\anaconda\\Lib\\site-packages\\sklearn_extra\\cluster\\_k_medoids.py:329: UserWarning: Cluster 4 is empty! self.labels_[self.medoid_indices_[4]] may not be labeled with its corresponding cluster (4).\n",
      "  warnings.warn(\n",
      "D:\\anaconda\\Lib\\site-packages\\sklearn_extra\\cluster\\_k_medoids.py:329: UserWarning: Cluster 5 is empty! self.labels_[self.medoid_indices_[5]] may not be labeled with its corresponding cluster (5).\n",
      "  warnings.warn(\n",
      "D:\\anaconda\\Lib\\site-packages\\sklearn_extra\\cluster\\_k_medoids.py:329: UserWarning: Cluster 8 is empty! self.labels_[self.medoid_indices_[8]] may not be labeled with its corresponding cluster (8).\n",
      "  warnings.warn(\n",
      "D:\\anaconda\\Lib\\site-packages\\sklearn_extra\\cluster\\_k_medoids.py:329: UserWarning: Cluster 9 is empty! self.labels_[self.medoid_indices_[9]] may not be labeled with its corresponding cluster (9).\n",
      "  warnings.warn(\n"
     ]
    },
    {
     "name": "stdout",
     "output_type": "stream",
     "text": [
      "        Age    Rating  Positive Feedback Count  Cluster\n",
      "0 -0.991912  0.720737                 -0.44412        1\n",
      "1 -0.828835  0.720737                 -0.44412        1\n",
      "2 -0.991912  0.720737                 -0.44412        1\n",
      "3  1.291168  0.720737                 -0.44412        0\n",
      "4 -0.339604  0.720737                 -0.44412        2\n",
      "        Age    Rating  Positive Feedback Count  Cluster\n",
      "0 -0.747297 -0.178294                 2.852032        8\n",
      "1  1.128091 -0.178294                -0.444120        5\n",
      "2  1.046552 -0.178294                 0.076325        5\n",
      "3 -0.584219 -1.077326                 0.076325        3\n",
      "4 -1.073451  0.720737                -0.444120        1\n"
     ]
    }
   ],
   "source": [
    "import pandas as pd\n",
    "import matplotlib.pyplot as plt\n",
    "from sklearn.model_selection import train_test_split\n",
    "from sklearn.preprocessing import StandardScaler\n",
    "from sklearn.compose import ColumnTransformer\n",
    "from sklearn.pipeline import Pipeline\n",
    "from sklearn_extra.cluster import KMedoids  \n",
    "\n",
    "# Load the data from the CSV file\n",
    "data = pd.read_csv('Womens.csv')\n",
    "\n",
    "# Define the target variable\n",
    "# target_column = \"Age\"\n",
    "\n",
    "# Select the relevant features (X)\n",
    "X = data[['Age', 'Rating', 'Positive Feedback Count']]\n",
    "\n",
    "# Split the data into training and testing sets\n",
    "X_train, X_test = train_test_split(X, test_size=0.2, random_state=42)\n",
    "\n",
    "# Create a transformer for numerical features\n",
    "numerical_transformer = Pipeline(steps=[\n",
    "    ('scaler', StandardScaler())\n",
    "])\n",
    "\n",
    "# Combine the transformers using ColumnTransformer\n",
    "preprocessor = ColumnTransformer(\n",
    "    transformers=[\n",
    "        ('num', numerical_transformer, ['Age', 'Rating', 'Positive Feedback Count'])\n",
    "    ])\n",
    "\n",
    "# Apply the preprocessing to both training and testing data\n",
    "X_train = preprocessor.fit_transform(X_train)\n",
    "X_test = preprocessor.transform(X_test)\n",
    "\n",
    "# Add a customer segmentation step (K-Medoids clustering)\n",
    "n_clusters = 10\n",
    "kmedoids = KMedoids(n_clusters=n_clusters, random_state=42)\n",
    "cluster_labels_train = kmedoids.fit_predict(X_train)  # Get cluster labels for training data\n",
    "cluster_labels_test = kmedoids.predict(X_test)  # Get cluster labels for testing data\n",
    "\n",
    "# Add cluster labels to the training and testing data\n",
    "X_train = pd.DataFrame(X_train, columns=['Age', 'Rating', 'Positive Feedback Count'])\n",
    "X_train['Cluster'] = cluster_labels_train\n",
    "X_test = pd.DataFrame(X_test, columns=['Age', 'Rating', 'Positive Feedback Count'])\n",
    "X_test['Cluster'] = cluster_labels_test\n",
    "\n",
    "# Print the first few rows of the DataFrames with cluster labels\n",
    "print(X_train.head())\n",
    "print(X_test.head())\n"
   ]
  },
  {
   "cell_type": "code",
   "execution_count": 4,
   "id": "a8ce3bb8",
   "metadata": {},
   "outputs": [
    {
     "name": "stdout",
     "output_type": "stream",
     "text": [
      "Silhouette Score for Training Data: 0.59\n",
      "Silhouette Score for Testing Data: 0.60\n"
     ]
    }
   ],
   "source": [
    "from sklearn.metrics import silhouette_score\n",
    "\n",
    "# Calculate silhouette score for the training data\n",
    "silhouette_avg = silhouette_score(X_train, cluster_labels_train)\n",
    "print(f\"Silhouette Score for Training Data: {silhouette_avg:.2f}\")\n",
    "\n",
    "# Calculate silhouette score for the testing data\n",
    "silhouette_avg_test = silhouette_score(X_test, cluster_labels_test)\n",
    "print(f\"Silhouette Score for Testing Data: {silhouette_avg_test:.2f}\")\n",
    "\n"
   ]
  },
  {
   "cell_type": "code",
   "execution_count": null,
   "id": "0992972c",
   "metadata": {},
   "outputs": [],
   "source": []
  }
 ],
 "metadata": {
  "kernelspec": {
   "display_name": "Python 3 (ipykernel)",
   "language": "python",
   "name": "python3"
  },
  "language_info": {
   "codemirror_mode": {
    "name": "ipython",
    "version": 3
   },
   "file_extension": ".py",
   "mimetype": "text/x-python",
   "name": "python",
   "nbconvert_exporter": "python",
   "pygments_lexer": "ipython3",
   "version": "3.11.3"
  }
 },
 "nbformat": 4,
 "nbformat_minor": 5
}
